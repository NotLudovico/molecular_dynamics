{
 "cells": [
  {
   "cell_type": "markdown",
   "metadata": {},
   "source": [
    "# Harmonic Oscillator"
   ]
  },
  {
   "cell_type": "code",
   "execution_count": null,
   "metadata": {},
   "outputs": [
    {
     "ename": "",
     "evalue": "",
     "output_type": "error",
     "traceback": [
      "\u001b[1;31mRunning cells with 'Python 3.13.1' requires the ipykernel package.\n",
      "\u001b[1;31mRun the following command to install 'ipykernel' into the Python environment. \n",
      "\u001b[1;31mCommand: '/opt/homebrew/bin/python3 -m pip install ipykernel -U --user --force-reinstall'"
     ]
    }
   ],
   "source": [
    "import numpy as np\n",
    "import matplotlib.pylot as plt \n",
    "\n",
    "# Parameters\n",
    "q = np.array([1, 1.1, 0.9, 0.85, 1.15])\n",
    "p = np.array([1, 1.1, 0.9, 0.85, 1.15])\n",
    "dt = 0.1\n",
    "steps = 1000  # Number of integration steps\n",
    "\n",
    "\n",
    "# Functions\n",
    "def U(q):\n",
    "    return np.square(q) / 2\n",
    "\n",
    "\n",
    "def K(p):\n",
    "    return np.square(p) / 2\n",
    "\n",
    "\n",
    "def force(q):\n",
    "    return -q.copy()\n",
    "\n",
    "\n",
    "# Lists to store the evolution\n",
    "q_values = []\n",
    "p_values = []\n",
    "\n",
    "# Integration loop with energy rescaling\n",
    "for _ in range(steps):\n",
    "    E_initial = U(q) + K(p)\n",
    "    p += force(q) * dt / 2\n",
    "    q += p * dt\n",
    "    p += force(q) * dt / 2\n",
    "\n",
    "    # Rescale momenta\n",
    "    E_final = U(q) + K(p)\n",
    "    rescale_factor = np.sqrt((K(p) + E_initial - E_final) / K(p))\n",
    "    p *= rescale_factor\n",
    "\n",
    "    q_values.append(q.copy())\n",
    "    p_values.append(p.copy())\n",
    "\n",
    "q_values = np.array(q_values)\n",
    "p_values = np.array(p_values)\n",
    "\n",
    "# Visualization: Phase Space\n",
    "plt.figure(figsize=(8, 6))\n",
    "for i in range(len(q)):  # Loop through each particle\n",
    "    plt.plot(q_values[:, i], p_values[:, i], label=f\"Particle {i+1}\")\n",
    "\n",
    "plt.title(\"Phase Space Trajectories (With Energy Rescaling)\", fontsize=14)\n",
    "plt.xlabel(\"Position (q)\", fontsize=12)\n",
    "plt.ylabel(\"Momentum (p)\", fontsize=12)\n",
    "plt.legend()\n",
    "plt.grid()\n",
    "plt.show()"
   ]
  }
 ],
 "metadata": {
  "kernelspec": {
   "display_name": "Python 3",
   "language": "python",
   "name": "python3"
  },
  "language_info": {
   "codemirror_mode": {
    "name": "ipython",
    "version": 3
   },
   "file_extension": ".py",
   "mimetype": "text/x-python",
   "name": "python",
   "nbconvert_exporter": "python",
   "pygments_lexer": "ipython3",
   "version": "3.12.0"
  }
 },
 "nbformat": 4,
 "nbformat_minor": 2
}
