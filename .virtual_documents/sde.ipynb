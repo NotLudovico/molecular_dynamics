


import numpy as np
import matplotlib.pyplot as plt


def x_evolution(x, dt):
    return -x * dt + np.sqrt(2 * dt) * np.random.normal(0, 1)


# Function to simulate the trajectory for a given dt
def simulate_traj(x, total_time, dt, evo, abs=False, seed=69):
    np.random.seed(seed)  # Set seed (useful for next point)

    nsteps = int(total_time / dt)
    trajectory = [x]

    for _ in range(nsteps):
        x += evo(x, dt)
        if abs:
            x = np.abs(x)
        trajectory.append(x)

    time = np.linspace(0, total_time, nsteps + 1)
    return time, trajectory


# Function to plot the trajectory
def plot_trajectory(time, trajectory, dt, ax):
    ax.plot(time, trajectory, label=f"dt={dt}")
    ax.set_title(f"Trajectory with dt={dt}")
    ax.set_xlabel("Time")
    ax.set_ylabel("x")
    ax.grid()
    ax.legend()


# Different dt values
dt_values = [0.01, 0.001, 0.0005, 0.0002]

# Create subplots
fig, axes = plt.subplots(2, 2, figsize=(12, 10))
axes = axes.flatten()

# Generate and plot for each dt
for i, dt in enumerate(dt_values):
    time, trajectory = simulate_traj(10, 20, dt, x_evolution)
    plot_trajectory(time, trajectory, dt, axes[i])

plt.tight_layout()
plt.show()





def plot_trajectory_with_stats(time, trajs, ax, title=""):
    """
    Plot the mean trajectory with the variance as a line.
    """
    mean_trajectory = np.mean(trajs, axis=0)
    variance_trajectory = np.var(trajs, axis=0)

    ax.plot(time, mean_trajectory, label="Mean Trajectory")
    ax.plot(time, variance_trajectory, label="Variance (Line)", linestyle="--")
    ax.set_title(title)
    ax.set_xlabel("Time")
    ax.set_ylabel("Value")
    ax.legend()
    ax.grid()


# Run 100 trajectories


def run_100_trajs(times, dt, evo, abs=False):
    fig, axes = plt.subplots(2, 2, figsize=(12, 10))
    axes = axes.flatten()

    for i, time in enumerate(times):
        trajs = np.empty((100, int(time / dt) + 1))
        for j in range(100):
            _, traj = simulate_traj(10, time, dt, evo, abs, seed=j)
            trajs[j, :] = traj

        # Plot the mean trajectory and variance as a line
        plot_trajectory_with_stats(
            np.linspace(0, time, int(time / dt) + 1),
            trajs,
            axes[i],
            title=f"Time={time}",
        )

    plt.tight_layout()
    plt.show()


# Parameters
times = [10, 20, 30, 40]
dt = 0.001

run_100_trajs(times, dt, x_evolution)











# Function to simulate the trajectory for a given dt
def y_evolution(y, dt):
    return 2 * (1 - y) * dt + np.sqrt(8 * y * dt) * np.random.normal(0, 1)


# Example of using simulate_traj for multiple trajectories and analyzing columns
times = [10, 20, 30, 40]
dt = 0.001

run_100_trajs(times, dt, y_evolution, True)





# Function to simulate the trajectory for a given dt
def y_evolution_wrong(y, dt):
    return -2 * y * dt + np.sqrt(8 * y * dt) * np.random.normal(0, 1)


# Example of using simulate_traj for multiple trajectories and analyzing columns
times = [10, 20, 30, 40]
dt = 0.001

run_100_trajs(times, dt, y_evolution_wrong, True)








def stratonovich():
    # TODO
    pass
